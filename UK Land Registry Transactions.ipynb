{
 "cells": [
  {
   "cell_type": "markdown",
   "metadata": {},
   "source": [
    "\n",
    "\n",
    "Source: https://www.kaggle.com/datasets/hm-land-registry/uk-housing-prices-paid\n",
    "\n",
    "Transaction unique identifier: transaction reference number.\n",
    "Price Sale price: as stated on the transfer deed.\n",
    "Date of Transfer Date: when the sale was completed, as stated on the transfer deed.\n",
    "Property Type: D = Detached, S = Semi-Detached, T = Terraced, F = Flats/Maisonettes, O = Other\n",
    "Old/New Indicates the age of the property and applies to all price paid transactions, residential and non-residential.\n",
    "Y = a newly built property, N = an established residential building\n",
    "Duration Relates to the tenure: F = Freehold, L= Leasehold etc.\n",
    "\n",
    "PPD Category Type Indicates the type of Price Paid transaction.\n",
    "A = Standard Price Paid entry, includes single residential property sold for full market value.\n",
    "B = Additional Price Paid entry including transfers under a power of sale/repossessions, buy-to-lets (where they can be identified by a Mortgage) and transfers to non-private individuals. Note that category B does not separately identify the transaction types stated. HM Land Registry has been collecting information on Category A transactions from January 1995. Category B transactions were identified from October 2013.\n",
    "\n",
    "Record Status - monthly file only Indicates additions, changes and deletions to the records.(see guide below).\n",
    "A = Addition\n",
    "C = Change\n",
    "D = Delete.\n",
    "\n",
    "Note that where a transaction changes category type due to misallocation (as above) it will be deleted from the original category type and added to the correct category with a new transaction unique identifier.\n",
    "\n",
    "This data was kindly released by HM Land Registry under the Open Government License 3.0.\n",
    "\n",
    "Data produced by HM Land Registry © Crown copyright 2017."
   ]
  },
  {
   "cell_type": "code",
   "execution_count": 1,
   "metadata": {},
   "outputs": [],
   "source": [
    "import pandas as pd\n",
    "import numpy as np\n",
    "from sklearn.model_selection import train_test_split\n",
    "from sklearn.metrics import r2_score, mean_absolute_error\n",
    "import seaborn as sns"
   ]
  },
  {
   "cell_type": "code",
   "execution_count": 5,
   "metadata": {},
   "outputs": [],
   "source": [
    "df = pd.read_csv(r\"C:\\Users\\aa1\\Desktop\\python_projects\\Tutorials\\House Price Predictions\\US-House-Prediction-p1\\UK Land Registry Transactions.csv\")"
   ]
  },
  {
   "cell_type": "code",
   "execution_count": 6,
   "metadata": {},
   "outputs": [
    {
     "data": {
      "text/html": [
       "<div>\n",
       "<style scoped>\n",
       "    .dataframe tbody tr th:only-of-type {\n",
       "        vertical-align: middle;\n",
       "    }\n",
       "\n",
       "    .dataframe tbody tr th {\n",
       "        vertical-align: top;\n",
       "    }\n",
       "\n",
       "    .dataframe thead th {\n",
       "        text-align: right;\n",
       "    }\n",
       "</style>\n",
       "<table border=\"1\" class=\"dataframe\">\n",
       "  <thead>\n",
       "    <tr style=\"text-align: right;\">\n",
       "      <th></th>\n",
       "      <th>Transaction unique identifier</th>\n",
       "      <th>Price</th>\n",
       "      <th>Date of Transfer</th>\n",
       "      <th>Property Type</th>\n",
       "      <th>Old/New</th>\n",
       "      <th>Duration</th>\n",
       "      <th>Town/City</th>\n",
       "      <th>District</th>\n",
       "      <th>County</th>\n",
       "      <th>PPDCategory Type</th>\n",
       "      <th>Record Status - monthly file only</th>\n",
       "    </tr>\n",
       "  </thead>\n",
       "  <tbody>\n",
       "    <tr>\n",
       "      <th>0</th>\n",
       "      <td>{81B82214-7FBC-4129-9F6B-4956B4A663AD}</td>\n",
       "      <td>25000</td>\n",
       "      <td>1995-08-18 00:00</td>\n",
       "      <td>T</td>\n",
       "      <td>N</td>\n",
       "      <td>F</td>\n",
       "      <td>OLDHAM</td>\n",
       "      <td>OLDHAM</td>\n",
       "      <td>GREATER MANCHESTER</td>\n",
       "      <td>A</td>\n",
       "      <td>A</td>\n",
       "    </tr>\n",
       "    <tr>\n",
       "      <th>1</th>\n",
       "      <td>{8046EC72-1466-42D6-A753-4956BF7CD8A2}</td>\n",
       "      <td>42500</td>\n",
       "      <td>1995-08-09 00:00</td>\n",
       "      <td>S</td>\n",
       "      <td>N</td>\n",
       "      <td>F</td>\n",
       "      <td>GRAYS</td>\n",
       "      <td>THURROCK</td>\n",
       "      <td>THURROCK</td>\n",
       "      <td>A</td>\n",
       "      <td>A</td>\n",
       "    </tr>\n",
       "    <tr>\n",
       "      <th>2</th>\n",
       "      <td>{278D581A-5BF3-4FCE-AF62-4956D87691E6}</td>\n",
       "      <td>45000</td>\n",
       "      <td>1995-06-30 00:00</td>\n",
       "      <td>T</td>\n",
       "      <td>N</td>\n",
       "      <td>F</td>\n",
       "      <td>HIGHBRIDGE</td>\n",
       "      <td>SEDGEMOOR</td>\n",
       "      <td>SOMERSET</td>\n",
       "      <td>A</td>\n",
       "      <td>A</td>\n",
       "    </tr>\n",
       "    <tr>\n",
       "      <th>3</th>\n",
       "      <td>{1D861C06-A416-4865-973C-4956DB12CD12}</td>\n",
       "      <td>43150</td>\n",
       "      <td>1995-11-24 00:00</td>\n",
       "      <td>T</td>\n",
       "      <td>N</td>\n",
       "      <td>F</td>\n",
       "      <td>BEDFORD</td>\n",
       "      <td>NORTH BEDFORDSHIRE</td>\n",
       "      <td>BEDFORDSHIRE</td>\n",
       "      <td>A</td>\n",
       "      <td>A</td>\n",
       "    </tr>\n",
       "    <tr>\n",
       "      <th>4</th>\n",
       "      <td>{DD8645FD-A815-43A6-A7BA-4956E58F1874}</td>\n",
       "      <td>18899</td>\n",
       "      <td>1995-06-23 00:00</td>\n",
       "      <td>S</td>\n",
       "      <td>N</td>\n",
       "      <td>F</td>\n",
       "      <td>WAKEFIELD</td>\n",
       "      <td>LEEDS</td>\n",
       "      <td>WEST YORKSHIRE</td>\n",
       "      <td>A</td>\n",
       "      <td>A</td>\n",
       "    </tr>\n",
       "  </tbody>\n",
       "</table>\n",
       "</div>"
      ],
      "text/plain": [
       "            Transaction unique identifier  Price  Date of Transfer  \\\n",
       "0  {81B82214-7FBC-4129-9F6B-4956B4A663AD}  25000  1995-08-18 00:00   \n",
       "1  {8046EC72-1466-42D6-A753-4956BF7CD8A2}  42500  1995-08-09 00:00   \n",
       "2  {278D581A-5BF3-4FCE-AF62-4956D87691E6}  45000  1995-06-30 00:00   \n",
       "3  {1D861C06-A416-4865-973C-4956DB12CD12}  43150  1995-11-24 00:00   \n",
       "4  {DD8645FD-A815-43A6-A7BA-4956E58F1874}  18899  1995-06-23 00:00   \n",
       "\n",
       "  Property Type Old/New Duration   Town/City            District  \\\n",
       "0             T       N        F      OLDHAM              OLDHAM   \n",
       "1             S       N        F       GRAYS            THURROCK   \n",
       "2             T       N        F  HIGHBRIDGE           SEDGEMOOR   \n",
       "3             T       N        F     BEDFORD  NORTH BEDFORDSHIRE   \n",
       "4             S       N        F   WAKEFIELD               LEEDS   \n",
       "\n",
       "               County PPDCategory Type Record Status - monthly file only  \n",
       "0  GREATER MANCHESTER                A                                 A  \n",
       "1            THURROCK                A                                 A  \n",
       "2            SOMERSET                A                                 A  \n",
       "3        BEDFORDSHIRE                A                                 A  \n",
       "4      WEST YORKSHIRE                A                                 A  "
      ]
     },
     "execution_count": 6,
     "metadata": {},
     "output_type": "execute_result"
    }
   ],
   "source": [
    "df.head()"
   ]
  },
  {
   "cell_type": "markdown",
   "metadata": {},
   "source": [
    "Comverting the codes to their full names\n",
    "D = Detached, S = Semi-Detached, T = Terraced, F = Flats/Maisonettes, O = Other"
   ]
  },
  {
   "cell_type": "code",
   "execution_count": 22,
   "metadata": {},
   "outputs": [
    {
     "data": {
      "text/plain": [
       "County\n",
       "GREATER LONDON        2993422\n",
       "GREATER MANCHESTER     985772\n",
       "WEST MIDLANDS          856803\n",
       "WEST YORKSHIRE         849862\n",
       "KENT                   636515\n",
       "                       ...   \n",
       "WEST GLAMORGAN           2048\n",
       "GWENT                    1897\n",
       "SOUTH GLAMORGAN          1775\n",
       "CLEVELAND                1766\n",
       "ISLES OF SCILLY           473\n",
       "Name: count, Length: 127, dtype: int64"
      ]
     },
     "execution_count": 22,
     "metadata": {},
     "output_type": "execute_result"
    }
   ],
   "source": [
    "df['County'].value_counts()"
   ]
  },
  {
   "cell_type": "code",
   "execution_count": 11,
   "metadata": {},
   "outputs": [],
   "source": [
    "pt_map = {'D': 'Detached',\n",
    "          'S': 'Semi-Detached',\n",
    "          'T': 'Terraced',\n",
    "          'F': 'Flats',\n",
    "          'O': 'Other'}\n",
    "\n",
    "df['Property Type']=df['Property Type'].map(pt_map)"
   ]
  },
  {
   "cell_type": "code",
   "execution_count": 12,
   "metadata": {},
   "outputs": [
    {
     "data": {
      "text/html": [
       "<div>\n",
       "<style scoped>\n",
       "    .dataframe tbody tr th:only-of-type {\n",
       "        vertical-align: middle;\n",
       "    }\n",
       "\n",
       "    .dataframe tbody tr th {\n",
       "        vertical-align: top;\n",
       "    }\n",
       "\n",
       "    .dataframe thead th {\n",
       "        text-align: right;\n",
       "    }\n",
       "</style>\n",
       "<table border=\"1\" class=\"dataframe\">\n",
       "  <thead>\n",
       "    <tr style=\"text-align: right;\">\n",
       "      <th></th>\n",
       "      <th>Transaction unique identifier</th>\n",
       "      <th>Price</th>\n",
       "      <th>Date of Transfer</th>\n",
       "      <th>Property Type</th>\n",
       "      <th>Old/New</th>\n",
       "      <th>Duration</th>\n",
       "      <th>Town/City</th>\n",
       "      <th>District</th>\n",
       "      <th>County</th>\n",
       "      <th>PPDCategory Type</th>\n",
       "      <th>Record Status - monthly file only</th>\n",
       "    </tr>\n",
       "  </thead>\n",
       "  <tbody>\n",
       "    <tr>\n",
       "      <th>0</th>\n",
       "      <td>{81B82214-7FBC-4129-9F6B-4956B4A663AD}</td>\n",
       "      <td>25000</td>\n",
       "      <td>1995-08-18 00:00</td>\n",
       "      <td>Terraced</td>\n",
       "      <td>N</td>\n",
       "      <td>F</td>\n",
       "      <td>OLDHAM</td>\n",
       "      <td>OLDHAM</td>\n",
       "      <td>GREATER MANCHESTER</td>\n",
       "      <td>A</td>\n",
       "      <td>A</td>\n",
       "    </tr>\n",
       "    <tr>\n",
       "      <th>1</th>\n",
       "      <td>{8046EC72-1466-42D6-A753-4956BF7CD8A2}</td>\n",
       "      <td>42500</td>\n",
       "      <td>1995-08-09 00:00</td>\n",
       "      <td>Semi-Detached</td>\n",
       "      <td>N</td>\n",
       "      <td>F</td>\n",
       "      <td>GRAYS</td>\n",
       "      <td>THURROCK</td>\n",
       "      <td>THURROCK</td>\n",
       "      <td>A</td>\n",
       "      <td>A</td>\n",
       "    </tr>\n",
       "    <tr>\n",
       "      <th>2</th>\n",
       "      <td>{278D581A-5BF3-4FCE-AF62-4956D87691E6}</td>\n",
       "      <td>45000</td>\n",
       "      <td>1995-06-30 00:00</td>\n",
       "      <td>Terraced</td>\n",
       "      <td>N</td>\n",
       "      <td>F</td>\n",
       "      <td>HIGHBRIDGE</td>\n",
       "      <td>SEDGEMOOR</td>\n",
       "      <td>SOMERSET</td>\n",
       "      <td>A</td>\n",
       "      <td>A</td>\n",
       "    </tr>\n",
       "    <tr>\n",
       "      <th>3</th>\n",
       "      <td>{1D861C06-A416-4865-973C-4956DB12CD12}</td>\n",
       "      <td>43150</td>\n",
       "      <td>1995-11-24 00:00</td>\n",
       "      <td>Terraced</td>\n",
       "      <td>N</td>\n",
       "      <td>F</td>\n",
       "      <td>BEDFORD</td>\n",
       "      <td>NORTH BEDFORDSHIRE</td>\n",
       "      <td>BEDFORDSHIRE</td>\n",
       "      <td>A</td>\n",
       "      <td>A</td>\n",
       "    </tr>\n",
       "    <tr>\n",
       "      <th>4</th>\n",
       "      <td>{DD8645FD-A815-43A6-A7BA-4956E58F1874}</td>\n",
       "      <td>18899</td>\n",
       "      <td>1995-06-23 00:00</td>\n",
       "      <td>Semi-Detached</td>\n",
       "      <td>N</td>\n",
       "      <td>F</td>\n",
       "      <td>WAKEFIELD</td>\n",
       "      <td>LEEDS</td>\n",
       "      <td>WEST YORKSHIRE</td>\n",
       "      <td>A</td>\n",
       "      <td>A</td>\n",
       "    </tr>\n",
       "  </tbody>\n",
       "</table>\n",
       "</div>"
      ],
      "text/plain": [
       "            Transaction unique identifier  Price  Date of Transfer  \\\n",
       "0  {81B82214-7FBC-4129-9F6B-4956B4A663AD}  25000  1995-08-18 00:00   \n",
       "1  {8046EC72-1466-42D6-A753-4956BF7CD8A2}  42500  1995-08-09 00:00   \n",
       "2  {278D581A-5BF3-4FCE-AF62-4956D87691E6}  45000  1995-06-30 00:00   \n",
       "3  {1D861C06-A416-4865-973C-4956DB12CD12}  43150  1995-11-24 00:00   \n",
       "4  {DD8645FD-A815-43A6-A7BA-4956E58F1874}  18899  1995-06-23 00:00   \n",
       "\n",
       "   Property Type Old/New Duration   Town/City            District  \\\n",
       "0       Terraced       N        F      OLDHAM              OLDHAM   \n",
       "1  Semi-Detached       N        F       GRAYS            THURROCK   \n",
       "2       Terraced       N        F  HIGHBRIDGE           SEDGEMOOR   \n",
       "3       Terraced       N        F     BEDFORD  NORTH BEDFORDSHIRE   \n",
       "4  Semi-Detached       N        F   WAKEFIELD               LEEDS   \n",
       "\n",
       "               County PPDCategory Type Record Status - monthly file only  \n",
       "0  GREATER MANCHESTER                A                                 A  \n",
       "1            THURROCK                A                                 A  \n",
       "2            SOMERSET                A                                 A  \n",
       "3        BEDFORDSHIRE                A                                 A  \n",
       "4      WEST YORKSHIRE                A                                 A  "
      ]
     },
     "execution_count": 12,
     "metadata": {},
     "output_type": "execute_result"
    }
   ],
   "source": [
    "df.head()"
   ]
  },
  {
   "cell_type": "code",
   "execution_count": 13,
   "metadata": {},
   "outputs": [
    {
     "data": {
      "text/plain": [
       "Old/New\n",
       "N    20192676\n",
       "Y     2296672\n",
       "Name: count, dtype: int64"
      ]
     },
     "execution_count": 13,
     "metadata": {},
     "output_type": "execute_result"
    }
   ],
   "source": [
    "df['Old/New'].value_counts()"
   ]
  },
  {
   "cell_type": "code",
   "execution_count": 15,
   "metadata": {},
   "outputs": [],
   "source": [
    "oldnew_map = {'N': 'New',\n",
    "              'O': 'Old'}\n",
    "\n",
    "df['Old/New']=df['Old/New'].map(oldnew_map)"
   ]
  },
  {
   "cell_type": "code",
   "execution_count": 16,
   "metadata": {},
   "outputs": [
    {
     "data": {
      "text/plain": [
       "Duration\n",
       "F    17176410\n",
       "L     5312258\n",
       "U         680\n",
       "Name: count, dtype: int64"
      ]
     },
     "execution_count": 16,
     "metadata": {},
     "output_type": "execute_result"
    }
   ],
   "source": [
    "df['Duration'].value_counts()"
   ]
  },
  {
   "cell_type": "code",
   "execution_count": 21,
   "metadata": {},
   "outputs": [],
   "source": [
    "duration_map = {'F': 'Freehold',\n",
    "                'L': 'Leasehold',\n",
    "                'U': 'Commonhold'}\n",
    "\n",
    "df['Duration']=df['Duration'].map(duration_map)"
   ]
  },
  {
   "cell_type": "code",
   "execution_count": null,
   "metadata": {},
   "outputs": [],
   "source": []
  }
 ],
 "metadata": {
  "kernelspec": {
   "display_name": "Python 3",
   "language": "python",
   "name": "python3"
  },
  "language_info": {
   "codemirror_mode": {
    "name": "ipython",
    "version": 3
   },
   "file_extension": ".py",
   "mimetype": "text/x-python",
   "name": "python",
   "nbconvert_exporter": "python",
   "pygments_lexer": "ipython3",
   "version": "3.12.2"
  }
 },
 "nbformat": 4,
 "nbformat_minor": 2
}
